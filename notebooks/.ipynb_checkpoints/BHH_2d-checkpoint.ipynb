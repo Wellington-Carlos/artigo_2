{
 "cells": [
  {
   "cell_type": "code",
   "execution_count": 3,
   "id": "e55a7a0c",
   "metadata": {},
   "outputs": [
    {
     "data": {
      "application/vnd.jupyter.widget-view+json": {
       "model_id": "33f78440d03042d5b7dd36abc0a10267",
       "version_major": 2,
       "version_minor": 0
      },
      "text/plain": [
       "VBox(children=(Figure(axes=[Axis(scale=LinearScale()), Axis(orientation='vertical', scale=LinearScale())], fig…"
      ]
     },
     "metadata": {},
     "output_type": "display_data"
    }
   ],
   "source": [
    "import numpy as np\n",
    "from scipy import integrate\n",
    "def f(t, y, args):\n",
    "    G, m_A, m_B, m_C = args\n",
    "    pos_A, pos_B, pos_C, vel_A, vel_B, vel_C = y[:3], y[3:6], y[6:9], y[9:12], y[12:15], y[15:]\n",
    "    r_AB = np.sqrt(np.sum((pos_A-pos_B)**2))\n",
    "    r_BC = np.sqrt(np.sum((pos_B-pos_C)**2))\n",
    "    r_CA = np.sqrt(np.sum((pos_C-pos_A)**2))\n",
    "    F_A = m_A * m_B * G*(pos_B-pos_A)/r_AB**3 + m_C * m_A * G*(pos_C-pos_A)/r_CA**3\n",
    "    F_B = m_A * m_B * G*(pos_A-pos_B)/r_AB**3 + m_C * m_B * G*(pos_C-pos_B)/r_BC**3\n",
    "    F_C = m_A * m_C * G*(pos_A-pos_C)/r_CA**3 + m_C * m_B * G*(pos_B-pos_C)/r_BC**3\n",
    "    return np.hstack((vel_A, vel_B, vel_C, F_A/m_A, F_B/m_B, F_C/m_C))\n",
    "\n",
    "G = 1.\n",
    "m_A = 4.4143\n",
    "m_B = 18.6575\n",
    "m_C = 1.0\n",
    "args = (G, m_A, m_B, m_C)\n",
    "\n",
    "pos_A = np.array([-1.32880, 0.0, 0.0])\n",
    "pos_B = np.array([1.0, 0.0, 0.0])\n",
    "pos_C = np.array([0.0, 0.0, 0.0])\n",
    "\n",
    "vel_A = np.array([0.0, -1.86103, 0.0])\n",
    "vel_B = np.array([0.0, 0.25507, 0.0])\n",
    "vel_C = np.array([0.0, -(m_A*vel_A[1]+m_B*vel_B[1])/m_C, 0.0])\n",
    "\n",
    "\n",
    "'''Initial condition y0 must be one-dimensional'''\n",
    "y0 = np.hstack((pos_A, pos_B, pos_C, vel_A, vel_B, vel_C))\n",
    "t = np.linspace(0, 2*2.3306, 1000)\n",
    "\n",
    "r = integrate.ode(f)\n",
    "r.set_integrator('vode', method = 'adams')\n",
    "r.set_initial_value(y0, t[0])\n",
    "r.set_f_params(args)\n",
    "dt = t[1] - t[0]\n",
    "y_t = np.zeros((len(t), len(y0)))\n",
    "idx = 0\n",
    "while r.successful() and r.t < t[-1]+1e-10:\n",
    "    y_t[idx, :] = r.y\n",
    "    r.integrate(r.t + dt)\n",
    "    idx += 1\n",
    "\n",
    "import bqplot as bq\n",
    "from bqplot import pyplot as plt\n",
    "\n",
    "figure = plt.figure(title='THREE NEWLY STABLE')\n",
    "#figure.layout.height = '600px'\n",
    "figure.layout.width = '600px'\n",
    "plot_A = plt.plot(y_t[:, 0],y_t[:, 1], 'b') # A\n",
    "plot_B = plt.plot(y_t[:, 3],y_t[:, 4], 'r') # B\n",
    "plot_C = plt.plot(y_t[:, 6],y_t[:, 7], 'k') # C\n",
    "scatter_A = plt.scatter(y_t[:2, 0],y_t[:2, 1], colors=[\"blue\"])\n",
    "scatter_B = plt.scatter(y_t[:2, 3],y_t[:2, 4], colors=[\"red\"])\n",
    "scatter_C = plt.scatter(y_t[:2, 6],y_t[:2, 7], colors=[\"black\"])\n",
    "plt.show()"
   ]
  },
  {
   "cell_type": "code",
   "execution_count": 5,
   "id": "4304614a",
   "metadata": {},
   "outputs": [],
   "source": [
    "'''Animation'''\n",
    "import time\n",
    "idx = 0\n",
    "speed = 5\n",
    "T1 = time.time()\n",
    "i = 0\n",
    "for idx in range(1, len(t)-1, speed): # Update Chart\n",
    "    scatter_A.x = y_t[idx:idx+2, 0]\n",
    "    x = np.array(y_t[idx:idx+2, 0])\n",
    "    scatter_A.y = y_t[idx:idx+2, 1]\n",
    "    y = np.array(y_t[idx:idx+2, 1])\n",
    "    if ((abs(x[0])<0.015)& (abs(y[0])<0.015)):\n",
    "        T2 = time.time()\n",
    "        #print(str(i)+'T cycle :%s second '% (T2 - T1))\n",
    "        i +=1\n",
    "    scatter_B.x = y_t[idx:idx+2, 3]\n",
    "    scatter_B.y = y_t[idx:idx+2, 4]\n",
    "    scatter_C.x = y_t[idx:idx+2, 6]\n",
    "    scatter_C.y = y_t[idx:idx+2, 7]\n",
    "    time.sleep(0.01)"
   ]
  },
  {
   "cell_type": "code",
   "execution_count": null,
   "id": "7903c0ea",
   "metadata": {},
   "outputs": [],
   "source": []
  }
 ],
 "metadata": {
  "kernelspec": {
   "display_name": "Python 3 (ipykernel)",
   "language": "python",
   "name": "python3"
  },
  "language_info": {
   "codemirror_mode": {
    "name": "ipython",
    "version": 3
   },
   "file_extension": ".py",
   "mimetype": "text/x-python",
   "name": "python",
   "nbconvert_exporter": "python",
   "pygments_lexer": "ipython3",
   "version": "3.9.7"
  }
 },
 "nbformat": 4,
 "nbformat_minor": 5
}
